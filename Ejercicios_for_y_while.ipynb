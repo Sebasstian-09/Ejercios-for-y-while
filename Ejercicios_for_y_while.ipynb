{
  "nbformat": 4,
  "nbformat_minor": 0,
  "metadata": {
    "colab": {
      "name": "Ejercicios for y while",
      "provenance": [],
      "collapsed_sections": []
    },
    "kernelspec": {
      "name": "python3",
      "display_name": "Python 3"
    },
    "language_info": {
      "name": "python"
    }
  },
  "cells": [
    {
      "cell_type": "markdown",
      "source": [
        "#Ejercicios"
      ],
      "metadata": {
        "id": "3QPbiN7FV7Bz"
      }
    },
    {
      "cell_type": "code",
      "execution_count": 4,
      "metadata": {
        "colab": {
          "base_uri": "https://localhost:8080/"
        },
        "id": "J3JfiAdNVTui",
        "outputId": "4588fce2-fa84-4fff-fe37-96fae980563b"
      },
      "outputs": [
        {
          "output_type": "stream",
          "name": "stdout",
          "text": [
            "Escribe la tabla que deseas calcular: 9\n",
            "tabla del  9\n",
            "9 x 1 = 9\n",
            "9 x 2 = 18\n",
            "9 x 3 = 27\n",
            "9 x 4 = 36\n",
            "9 x 5 = 45\n",
            "9 x 6 = 54\n",
            "9 x 7 = 63\n",
            "9 x 8 = 72\n",
            "9 x 9 = 81\n",
            "9 x 10 = 90\n"
          ]
        }
      ],
      "source": [
        "#Ejercicio 6\n",
        "n=int(input(\"Escribe la tabla que deseas calcular: \"))\n",
        "print(\"tabla del \", n)\n",
        "for i in range(1, 11):\n",
        "  print(n, \"x\", i, \"=\", n*i)\n"
      ]
    },
    {
      "cell_type": "code",
      "source": [
        "#Ejercicio 6\n",
        "n=int(input(\"Escribe la tabla que deseas calcular: \"))\n",
        "print(\"tabla del \", n)\n",
        "contador=1\n",
        "while contador<11:\n",
        "  mul=n*contador\n",
        "  print(n, \"x\", contador, \"=\", mul)\n",
        "  contador+=1"
      ],
      "metadata": {
        "colab": {
          "base_uri": "https://localhost:8080/"
        },
        "id": "DFCyNoGvbt4x",
        "outputId": "71372de5-4710-44da-f212-c7579205e641"
      },
      "execution_count": 6,
      "outputs": [
        {
          "output_type": "stream",
          "name": "stdout",
          "text": [
            "Escribe la tabla que deseas calcular: 5\n",
            "tabla del  5\n",
            "5 x 1 = 5\n",
            "5 x 2 = 10\n",
            "5 x 3 = 15\n",
            "5 x 4 = 20\n",
            "5 x 5 = 25\n",
            "5 x 6 = 30\n",
            "5 x 7 = 35\n",
            "5 x 8 = 40\n",
            "5 x 9 = 45\n",
            "5 x 10 = 50\n"
          ]
        }
      ]
    },
    {
      "cell_type": "code",
      "source": [
        "#Ejercicio 1\n",
        "n=int(input(\"Ingresa un número: \"))\n",
        "contador=0\n",
        "for i in range(1, n+1):\n",
        "  if n%i==0:\n",
        "    contador+=1\n",
        "if contador>2:\n",
        "  print(\"El número no es primo\")\n",
        "else:\n",
        "  print(\"El número es primo\")"
      ],
      "metadata": {
        "colab": {
          "base_uri": "https://localhost:8080/"
        },
        "id": "-4DhSVUFcnYS",
        "outputId": "f85cdcf8-c36c-45af-a71c-8091ab1aa3b0"
      },
      "execution_count": 13,
      "outputs": [
        {
          "output_type": "stream",
          "name": "stdout",
          "text": [
            "Ingresa un número: 5\n",
            "El número es primo\n"
          ]
        }
      ]
    }
  ]
}